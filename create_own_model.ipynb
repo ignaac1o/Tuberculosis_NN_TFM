{
 "cells": [
  {
   "cell_type": "code",
   "execution_count": 2,
   "metadata": {},
   "outputs": [],
   "source": [
    "import os,keras,cv2 #cv2 requiered for selective search on images\n",
    "import pandas as pd\n",
    "import matplotlib.pyplot as plt\n",
    "import numpy as np\n",
    "import tensorflow as tf"
   ]
  },
  {
   "cell_type": "code",
   "execution_count": 3,
   "metadata": {},
   "outputs": [],
   "source": [
    "def get_iou(bb1, bb2):\n",
    "    assert bb1['x1'] < bb1['x2']\n",
    "    assert bb1['y1'] < bb1['y2']\n",
    "    assert bb2['x1'] < bb2['x2']\n",
    "    assert bb2['y1'] < bb2['y2']\n",
    "\n",
    "    x_left = max(bb1['x1'], bb2['x1'])\n",
    "    y_top = max(bb1['y1'], bb2['y1'])\n",
    "    x_right = min(bb1['x2'], bb2['x2'])\n",
    "    y_bottom = min(bb1['y2'], bb2['y2'])\n",
    "\n",
    "    if x_right < x_left or y_bottom < y_top:\n",
    "        return 0.0\n",
    "\n",
    "    intersection_area = (x_right - x_left) * (y_bottom - y_top)\n",
    "\n",
    "    bb1_area = (bb1['x2'] - bb1['x1']) * (bb1['y2'] - bb1['y1'])\n",
    "    bb2_area = (bb2['x2'] - bb2['x1']) * (bb2['y2'] - bb2['y1'])\n",
    "\n",
    "    iou = intersection_area / float(bb1_area + bb2_area - intersection_area)\n",
    "    assert iou >= 0.0\n",
    "    assert iou <= 1.0\n",
    "    return iou"
   ]
  },
  {
   "cell_type": "code",
   "execution_count": 3,
   "metadata": {},
   "outputs": [
    {
     "name": "stdout",
     "output_type": "stream",
     "text": [
      "inside\n"
     ]
    }
   ],
   "source": [
    "train_images=[]\n",
    "train_labels=[]\n",
    "\n",
    "paths = \"photos_test\"\n",
    "annot = \"anotations_test\"\n",
    "\n",
    "ss = cv2.ximgproc.segmentation.createSelectiveSearchSegmentation()\n",
    "\n",
    "\n",
    "for e,i in enumerate(os.listdir(annot)):\n",
    "    try:\n",
    "        if i.startswith(\"tuberculosis\"):\n",
    "            filename=i.split(\".\")[0]+\".jpg\"\n",
    "            image=cv2.imread(os.path.join(paths,filename))\n",
    "            df=pd.read_csv(os.path.join(annot,i))\n",
    "            gtvalues=[]\n",
    "            for row in df.iterrows():\n",
    "                x1 = int(row[1][0].split(\" \")[0])\n",
    "                y1 = int(row[1][0].split(\" \")[1])\n",
    "                x2 = int(row[1][0].split(\" \")[2])\n",
    "                y2 = int(row[1][0].split(\" \")[3])\n",
    "                gtvalues.append({\"x1\":x1,\"x2\":x2,\"y1\":y1,\"y2\":y2})\n",
    "            ss.setBaseImage(image)\n",
    "            ss.switchToSelectiveSearchFast()\n",
    "            ssresults = ss.process()\n",
    "            imout = image.copy()\n",
    "            counter = 0\n",
    "            falsecounter = 0\n",
    "            flag = 0\n",
    "            fflag = 0\n",
    "            bflag = 0\n",
    "            for e,result in enumerate(ssresults):\n",
    "                if e<2000 and flag ==0:\n",
    "                    for gtval in gtvalues:\n",
    "                        x,y,w,h = result\n",
    "                        iou = get_iou(gtval,{\"x1\":x,\"x2\":x+w,\"y1\":y,\"y2\":y+h})\n",
    "                        if counter < 30:\n",
    "                            if iou > 0.70:\n",
    "                                timage = imout[y:y+h,x:x+w]\n",
    "                                resized = cv2.resize(timage, (224,224), interpolation = cv2.INTER_AREA)\n",
    "                                train_images.append(resized)\n",
    "                                train_labels.append(1)\n",
    "                                counter += 1\n",
    "                        else :\n",
    "                            fflag =1\n",
    "                        if falsecounter <30:\n",
    "                            if iou < 0.3:\n",
    "                                timage = imout[y:y+h,x:x+w]\n",
    "                                resized = cv2.resize(timage, (224,224), interpolation = cv2.INTER_AREA)\n",
    "                                train_images.append(resized)\n",
    "                                train_labels.append(0)\n",
    "                                falsecounter += 1\n",
    "                        else :\n",
    "                            bflag = 1\n",
    "                    if fflag == 1 and bflag == 1:\n",
    "                        print(\"inside\")\n",
    "                        flag = 1\n",
    "    except Exception as e:\n",
    "        print(e)\n",
    "        print(\"error in \"+filename)\n",
    "        continue"
   ]
  },
  {
   "cell_type": "code",
   "execution_count": 4,
   "metadata": {},
   "outputs": [
    {
     "name": "stdout",
     "output_type": "stream",
     "text": [
      "(39565, 224, 224, 3)\n",
      "(39565,)\n"
     ]
    }
   ],
   "source": [
    "X_new = np.array(train_images)\n",
    "y_new = np.array(train_labels)\n",
    "\n",
    "print(X_new.shape)\n",
    "print(y_new.shape)\n",
    "\n",
    "np.save(\"X_new\",X_new)\n",
    "np.save(\"y_new\",y_new)\n",
    "\n",
    "#res=np.load(\"X_new.npy\")\n",
    "\n",
    "#print(res.shape)"
   ]
  },
  {
   "cell_type": "code",
   "execution_count": null,
   "metadata": {},
   "outputs": [],
   "source": []
  },
  {
   "cell_type": "code",
   "execution_count": 4,
   "metadata": {},
   "outputs": [],
   "source": [
    "X_new=np.load(\"X_new.npy\")\n",
    "y_new=np.load(\"Y_new.npy\")"
   ]
  },
  {
   "cell_type": "markdown",
   "metadata": {},
   "source": [
    "Start creating the model"
   ]
  },
  {
   "cell_type": "code",
   "execution_count": 5,
   "metadata": {},
   "outputs": [],
   "source": [
    "import keras, os\n",
    "from keras.models import Sequential\n",
    "from keras.layers import Dense, Conv2D, MaxPool2D, Flatten\n",
    "from keras.preprocessing.image import ImageDataGenerator\n"
   ]
  },
  {
   "cell_type": "code",
   "execution_count": 6,
   "metadata": {},
   "outputs": [
    {
     "name": "stderr",
     "output_type": "stream",
     "text": [
      "2022-05-02 10:54:43.372926: I tensorflow/core/platform/cpu_feature_guard.cc:151] This TensorFlow binary is optimized with oneAPI Deep Neural Network Library (oneDNN) to use the following CPU instructions in performance-critical operations:  AVX2 FMA\n",
      "To enable them in other operations, rebuild TensorFlow with the appropriate compiler flags.\n"
     ]
    }
   ],
   "source": [
    "model=Sequential()\n",
    "\n",
    "model.add(Conv2D(input_shape=(224,224,3),filters=64,\n",
    "kernel_size=(3,3),padding=\"same\",activation=\"relu\"))\n",
    "\n",
    "model.add(MaxPool2D(pool_size=(2,2),strides=(2,2)))\n",
    "\n",
    "model.add(Conv2D(filters=128,kernel_size=(3,3),\n",
    "padding=\"same\",activation=\"relu\"))\n",
    "\n",
    "model.add(MaxPool2D(pool_size=(2,2),strides=(2,2)))\n",
    "\n",
    "model.add(Conv2D(filters=256,kernel_size=(3,3),\n",
    "padding=\"same\",activation=\"relu\"))\n",
    "\n",
    "model.add(MaxPool2D(pool_size=(2,2),strides=(2,2)))\n",
    "\n",
    "model.add(Conv2D(filters=512,kernel_size=(3,3),\n",
    "padding=\"same\",activation=\"relu\"))\n",
    "\n",
    "model.add(Flatten())\n",
    "\n",
    "model.add(Dense(units=4096,activation=\"relu\"))\n",
    "\n",
    "model.add(Dense(units=2, activation=\"softmax\"))"
   ]
  },
  {
   "cell_type": "code",
   "execution_count": 7,
   "metadata": {},
   "outputs": [
    {
     "name": "stdout",
     "output_type": "stream",
     "text": [
      "Model: \"sequential\"\n",
      "_________________________________________________________________\n",
      " Layer (type)                Output Shape              Param #   \n",
      "=================================================================\n",
      " conv2d (Conv2D)             (None, 224, 224, 64)      1792      \n",
      "                                                                 \n",
      " max_pooling2d (MaxPooling2D  (None, 112, 112, 64)     0         \n",
      " )                                                               \n",
      "                                                                 \n",
      " conv2d_1 (Conv2D)           (None, 112, 112, 128)     73856     \n",
      "                                                                 \n",
      " max_pooling2d_1 (MaxPooling  (None, 56, 56, 128)      0         \n",
      " 2D)                                                             \n",
      "                                                                 \n",
      " conv2d_2 (Conv2D)           (None, 56, 56, 256)       295168    \n",
      "                                                                 \n",
      " max_pooling2d_2 (MaxPooling  (None, 28, 28, 256)      0         \n",
      " 2D)                                                             \n",
      "                                                                 \n",
      " conv2d_3 (Conv2D)           (None, 28, 28, 512)       1180160   \n",
      "                                                                 \n",
      " flatten (Flatten)           (None, 401408)            0         \n",
      "                                                                 \n",
      " dense (Dense)               (None, 4096)              1644171264\n",
      "                                                                 \n",
      " dense_1 (Dense)             (None, 2)                 8194      \n",
      "                                                                 \n",
      "=================================================================\n",
      "Total params: 1,645,730,434\n",
      "Trainable params: 1,645,730,434\n",
      "Non-trainable params: 0\n",
      "_________________________________________________________________\n"
     ]
    }
   ],
   "source": [
    "model.summary()\n"
   ]
  },
  {
   "cell_type": "code",
   "execution_count": 8,
   "metadata": {},
   "outputs": [
    {
     "name": "stderr",
     "output_type": "stream",
     "text": [
      "/Library/Frameworks/Python.framework/Versions/3.10/lib/python3.10/site-packages/keras/optimizer_v2/adam.py:105: UserWarning: The `lr` argument is deprecated, use `learning_rate` instead.\n",
      "  super(Adam, self).__init__(name, **kwargs)\n"
     ]
    }
   ],
   "source": [
    "from tensorflow.keras.optimizers import Adam\n",
    "opt = Adam(lr=0.0001)"
   ]
  },
  {
   "cell_type": "code",
   "execution_count": 9,
   "metadata": {},
   "outputs": [
    {
     "name": "stdout",
     "output_type": "stream",
     "text": [
      "Model: \"sequential\"\n",
      "_________________________________________________________________\n",
      " Layer (type)                Output Shape              Param #   \n",
      "=================================================================\n",
      " conv2d (Conv2D)             (None, 224, 224, 64)      1792      \n",
      "                                                                 \n",
      " max_pooling2d (MaxPooling2D  (None, 112, 112, 64)     0         \n",
      " )                                                               \n",
      "                                                                 \n",
      " conv2d_1 (Conv2D)           (None, 112, 112, 128)     73856     \n",
      "                                                                 \n",
      " max_pooling2d_1 (MaxPooling  (None, 56, 56, 128)      0         \n",
      " 2D)                                                             \n",
      "                                                                 \n",
      " conv2d_2 (Conv2D)           (None, 56, 56, 256)       295168    \n",
      "                                                                 \n",
      " max_pooling2d_2 (MaxPooling  (None, 28, 28, 256)      0         \n",
      " 2D)                                                             \n",
      "                                                                 \n",
      " conv2d_3 (Conv2D)           (None, 28, 28, 512)       1180160   \n",
      "                                                                 \n",
      " flatten (Flatten)           (None, 401408)            0         \n",
      "                                                                 \n",
      " dense (Dense)               (None, 4096)              1644171264\n",
      "                                                                 \n",
      " dense_1 (Dense)             (None, 2)                 8194      \n",
      "                                                                 \n",
      "=================================================================\n",
      "Total params: 1,645,730,434\n",
      "Trainable params: 1,645,730,434\n",
      "Non-trainable params: 0\n",
      "_________________________________________________________________\n"
     ]
    }
   ],
   "source": [
    "model.compile(loss = keras.losses.categorical_crossentropy, optimizer = opt, metrics=[\"accuracy\"])\n",
    "model.summary()"
   ]
  },
  {
   "cell_type": "code",
   "execution_count": 10,
   "metadata": {},
   "outputs": [
    {
     "name": "stdout",
     "output_type": "stream",
     "text": [
      "(35608, 224, 224, 3) (3957, 224, 224, 3) (35608, 2) (3957, 2)\n"
     ]
    }
   ],
   "source": [
    "\n",
    "from sklearn.model_selection import train_test_split\n",
    "from sklearn.preprocessing import LabelBinarizer\n",
    "\n",
    "class MyLabelBinarizer(LabelBinarizer):\n",
    "    def transform(self, y):\n",
    "        Y = super().transform(y)\n",
    "        if self.y_type_ == 'binary':\n",
    "            return np.hstack((Y, 1-Y))\n",
    "        else:\n",
    "            return Y\n",
    "    def inverse_transform(self, Y, threshold=None):\n",
    "        if self.y_type_ == 'binary':\n",
    "            return super().inverse_transform(Y[:, 0], threshold)\n",
    "        else:\n",
    "            return super().inverse_transform(Y, threshold)\n",
    "\n",
    "lenc = MyLabelBinarizer()\n",
    "Y =  lenc.fit_transform(y_new)\n",
    "\n",
    "X_train, X_test , y_train, y_test = train_test_split(X_new,Y,test_size=0.10)\n",
    "print(X_train.shape,X_test.shape,y_train.shape,y_test.shape)"
   ]
  },
  {
   "cell_type": "code",
   "execution_count": 11,
   "metadata": {},
   "outputs": [],
   "source": [
    "trdata = ImageDataGenerator(horizontal_flip=True, vertical_flip=True, rotation_range=90)\n",
    "traindata = trdata.flow(x=X_train, y=y_train)\n",
    "tsdata = ImageDataGenerator(horizontal_flip=True, vertical_flip=True, rotation_range=90)\n",
    "testdata = tsdata.flow(x=X_test, y=y_test)"
   ]
  },
  {
   "cell_type": "code",
   "execution_count": 13,
   "metadata": {},
   "outputs": [
    {
     "name": "stdout",
     "output_type": "stream",
     "text": [
      "Epoch 1/20\n",
      "WARNING:tensorflow:Can save best model only with val_loss available, skipping.\n",
      " 1/10 [==>...........................] - ETA: 41:25 - loss: 8.5713 - accuracy: 0.0938"
     ]
    },
    {
     "ename": "Error",
     "evalue": "Canceled future for execute_request message before replies were done",
     "output_type": "error",
     "traceback": [
      "Error: Canceled future for execute_request message before replies were done",
      "at t.KernelShellFutureHandler.dispose (/Users/ignaac1o/.vscode/extensions/ms-toolsai.jupyter-2022.3.1000901801/out/extension.js:2:1204175)",
      "at /Users/ignaac1o/.vscode/extensions/ms-toolsai.jupyter-2022.3.1000901801/out/extension.js:2:1223227",
      "at Map.forEach (<anonymous>)",
      "at v._clearKernelState (/Users/ignaac1o/.vscode/extensions/ms-toolsai.jupyter-2022.3.1000901801/out/extension.js:2:1223212)",
      "at v.dispose (/Users/ignaac1o/.vscode/extensions/ms-toolsai.jupyter-2022.3.1000901801/out/extension.js:2:1216694)",
      "at /Users/ignaac1o/.vscode/extensions/ms-toolsai.jupyter-2022.3.1000901801/out/extension.js:2:533674",
      "at t.swallowExceptions (/Users/ignaac1o/.vscode/extensions/ms-toolsai.jupyter-2022.3.1000901801/out/extension.js:2:913059)",
      "at dispose (/Users/ignaac1o/.vscode/extensions/ms-toolsai.jupyter-2022.3.1000901801/out/extension.js:2:533652)",
      "at t.RawSession.dispose (/Users/ignaac1o/.vscode/extensions/ms-toolsai.jupyter-2022.3.1000901801/out/extension.js:2:537330)",
      "at runMicrotasks (<anonymous>)",
      "at processTicksAndRejections (node:internal/process/task_queues:96:5)"
     ]
    }
   ],
   "source": [
    "from keras.callbacks import ModelCheckpoint, EarlyStopping\n",
    "checkpoint = ModelCheckpoint(\"model_test.h5\", monitor='val_loss', verbose=1, save_best_only=True, save_weights_only=False, mode='auto', save_freq=1)\n",
    "early = EarlyStopping(monitor='val_loss', min_delta=0, patience=100, verbose=1, mode='auto')\n",
    "hist = model.fit(x= traindata, steps_per_epoch= 10, epochs= 20, validation_data= testdata, validation_steps=2, callbacks=[checkpoint,early])"
   ]
  },
  {
   "cell_type": "code",
   "execution_count": 11,
   "metadata": {},
   "outputs": [],
   "source": [
    "import joblib\n",
    "joblib.dump(model, 'model.pkl')"
   ]
  },
  {
   "cell_type": "code",
   "execution_count": 15,
   "metadata": {},
   "outputs": [
    {
     "data": {
      "image/png": "[encoded data removed]",
      "text/plain": [
       "<Figure size 432x288 with 1 Axes>"
      ]
     },
     "metadata": {
      "needs_background": "light"
     },
     "output_type": "display_data"
    },
    {
     "data": {
      "text/plain": [
       "<Figure size 432x288 with 0 Axes>"
      ]
     },
     "metadata": {},
     "output_type": "display_data"
    }
   ],
   "source": [
    "import matplotlib.pyplot as plt\n",
    "# plt.plot(hist.history[\"acc\"])\n",
    "# plt.plot(hist.history['val_acc'])\n",
    "plt.plot(hist.history['loss'])\n",
    "plt.plot(hist.history['val_loss'])\n",
    "plt.title(\"model loss\")\n",
    "plt.ylabel(\"Loss\")\n",
    "plt.xlabel(\"Epoch\")\n",
    "plt.legend([\"Loss\",\"Validation Loss\"])\n",
    "plt.show()\n",
    "plt.savefig('chart loss.png')"
   ]
  },
  {
   "cell_type": "code",
   "execution_count": 18,
   "metadata": {},
   "outputs": [
    {
     "data": {
      "text/plain": [
       "<matplotlib.image.AxesImage at 0x1560899f0>"
      ]
     },
     "execution_count": 18,
     "metadata": {},
     "output_type": "execute_result"
    },
    {
     "data": {
      "image/png": "[encoded data removed]",
      "text/plain": [
       "<Figure size 432x288 with 1 Axes>"
      ]
     },
     "metadata": {
      "needs_background": "light"
     },
     "output_type": "display_data"
    }
   ],
   "source": [
    "for image in range(X_test.shape[0]):\n",
    "  im = X_test[image]\n",
    "  img = np.expand_dims(im, axis=0)\n",
    "  out= model.predict(img)\n",
    "\n",
    "  if out[0][0] > out[0][1]:\n",
    "    plt.figure()\n",
    "    im = X_test[image]\n",
    "    plt.imshow(im)\n",
    "\n",
    "\n",
    "plt.imshow(im)"
   ]
  },
  {
   "cell_type": "code",
   "execution_count": 19,
   "metadata": {},
   "outputs": [
    {
     "name": "stdout",
     "output_type": "stream",
     "text": [
      "Confusion Matrix:\n",
      "\n",
      "      prediction\n",
      "     true   False\n",
      "true  0     0\n",
      "false 0     4000\n"
     ]
    }
   ],
   "source": [
    "z=0\n",
    "path_test=\"testph\"\n",
    "anotations_test=\"testanot\"\n",
    "\n",
    "false_negative=0\n",
    "true_negative=0\n",
    "true_positive=0\n",
    "false_positive=0\n",
    "\n",
    "for e,i in enumerate(os.listdir(anotations_test)):\n",
    "    if i.startswith(\"tub\"):\n",
    "        z += 1\n",
    "        filename=i.split(\".\")[0]+\".jpg\"\n",
    "        img=cv2.imread(os.path.join(path_test,filename))\n",
    "        df=pd.read_csv(os.path.join(anotations_test,i))\n",
    "        gtvalues=[]\n",
    "        for row in df.iterrows():\n",
    "          x1 = int(row[1][0].split(\" \")[0])\n",
    "          y1 = int(row[1][0].split(\" \")[1])\n",
    "          x2 = int(row[1][0].split(\" \")[2])\n",
    "          y2 = int(row[1][0].split(\" \")[3])\n",
    "          gtvalues.append({\"x1\":x1,\"x2\":x2,\"y1\":y1,\"y2\":y2})\n",
    "        \n",
    "        ss.setBaseImage(img)\n",
    "        ss.switchToSelectiveSearchFast()\n",
    "        ssresults = ss.process()\n",
    "        imout = img.copy()\n",
    "\n",
    "        for e,result in enumerate(ssresults):\n",
    "            if e < 2000:\n",
    "                x,y,w,h = result\n",
    "                timage = imout[y:y+h,x:x+w]\n",
    "                resized = cv2.resize(timage, (224,224), interpolation = cv2.INTER_AREA)\n",
    "                img = np.expand_dims(resized, axis=0)\n",
    "                out= model.predict(img)\n",
    "                positive_flag=False\n",
    "                if out[0][0] > 0.60:\n",
    "                    cv2.rectangle(imout, (x, y), (x+w, y+h), (0, 255, 0), 1, cv2.LINE_AA)\n",
    "                    for gtval in gtvalues:\n",
    "                        x,y,w,h = result\n",
    "                        iou = get_iou(gtval,{\"x1\":x,\"x2\":x+w,\"y1\":y,\"y2\":y+h})\n",
    "                        if(iou>0.7):\n",
    "                          positive_flag=True\n",
    "                        break\n",
    "                    if(positive_flag==True):\n",
    "                      true_positive+=1\n",
    "                    else:\n",
    "                      false_positive+=1\n",
    "                else:\n",
    "                  for gtval in gtvalues:\n",
    "                      x,y,w,h = result\n",
    "                      iou = get_iou(gtval,{\"x1\":x,\"x2\":x+w,\"y1\":y,\"y2\":y+h})\n",
    "                      if(iou>0.7):\n",
    "                        positive_flag=True\n",
    "                      break\n",
    "                  if(positive_flag==True):\n",
    "                    false_negative+=1\n",
    "                  else:\n",
    "                    true_negative+=1\n",
    "\n",
    "\n",
    "print(\"Confusion Matrix:\")\n",
    "print()\n",
    "print(\"     \",\"prediction\")\n",
    "print(\"    \",\"true\",\" \",\"False\")\n",
    "print(\"true \",true_positive,\"   \",false_positive)\n",
    "print(\"false\",false_negative,\"   \",true_negative)\n"
   ]
  }
 ],
 "metadata": {
  "interpreter": {
   "hash": "aee8b7b246df8f9039afb4144a1f6fd8d2ca17a180786b69acc140d282b71a49"
  },
  "kernelspec": {
   "display_name": "Python 3.10.4 64-bit",
   "language": "python",
   "name": "python3"
  },
  "language_info": {
   "codemirror_mode": {
    "name": "ipython",
    "version": 3
   },
   "file_extension": ".py",
   "mimetype": "text/x-python",
   "name": "python",
   "nbconvert_exporter": "python",
   "pygments_lexer": "ipython3",
   "version": "3.10.4"
  },
  "orig_nbformat": 4
 },
 "nbformat": 4,
 "nbformat_minor": 2
}
