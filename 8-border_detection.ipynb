{
 "cells": [
  {
   "cell_type": "code",
   "execution_count": 21,
   "metadata": {},
   "outputs": [],
   "source": [
    "import cv2\n",
    "import numpy as np\n",
    "import matplotlib.pyplot as plt\n",
    "import pandas as pd"
   ]
  },
  {
   "cell_type": "code",
   "execution_count": 70,
   "metadata": {},
   "outputs": [
    {
     "data": {
      "text/plain": [
       "32"
      ]
     },
     "execution_count": 70,
     "metadata": {},
     "output_type": "execute_result"
    },
    {
     "ename": "",
     "evalue": "",
     "output_type": "error",
     "traceback": [
      "\u001b[1;31mThe Kernel crashed while executing code in the the current cell or a previous cell. Please review the code in the cell(s) to identify a possible cause of the failure. Click <a href='https://aka.ms/vscodeJupyterKernelCrash'>here</a> for more info. View Jupyter <a href='command:jupyter.viewOutput'>log</a> for further details."
     ]
    }
   ],
   "source": [
    "path=\"DATA_SPLIT/val/photos/tuberculosis-phone-1107.jpg\"\n",
    "df=pd.read_csv(\"DATA_SPLIT/val/anotations/tuberculosis-phone-1107.csv\")\n",
    "\n",
    "img=cv2.imread(path)\n",
    "\n",
    "\n",
    "# Equalization\n",
    "img[:,:,1] = cv2.equalizeHist(img[:,:,1])\n",
    "img[:,:,0] = cv2.equalizeHist(img[:,:,0])\n",
    "img[:,:,2] = cv2.equalizeHist(img[:,:,2])\n",
    "##############\n",
    "\n",
    "\n",
    "# Border Detection\n",
    "img_grey=cv2.cvtColor(img,cv2.COLOR_BGR2GRAY)\n",
    "gauss = cv2.GaussianBlur(img_grey, (5,5), 0)\n",
    "cv2.imshow(\"suavizado\", gauss)  \n",
    "# Detectamos los bordes con Canny\n",
    "canny = cv2.Canny(gauss, 0, 140)\n",
    "cv2.imshow(\"canny\", canny)\n",
    "# Buscamos los contornos\n",
    "(contornos,_) = cv2.findContours(canny.copy(), cv2.RETR_EXTERNAL, cv2.CHAIN_APPROX_SIMPLE)\n",
    "###############\n",
    "cv2.drawContours(img,contornos,-1,(0,0,255), 2)\n",
    "\n",
    "\n",
    "## Delete Background \n",
    "#hsv = cv2.cvtColor(img, cv2.COLOR_BGR2HSV)\n",
    "#lower_bound = np.array([10, 0, 0])   \n",
    "#upper_bound = np.array([170, 250, 255])\n",
    "#mask = cv2.inRange(hsv, lower_bound, upper_bound)\n",
    "\n",
    "#define kernel size   \n",
    "#kernel = np.ones((3,3),np.uint8)\n",
    "        # Remove unnecessary noise from mask\n",
    "#mask = cv2.morphologyEx(mask, cv2.MORPH_CLOSE, kernel)\n",
    "#mask = cv2.morphologyEx(mask, cv2.MORPH_OPEN, kernel)\n",
    "\n",
    "        # Segment only the detected region\n",
    "#segmented_img = cv2.bitwise_and(img, img, mask=mask)\n",
    "\n",
    "        # Find contours from the mask\n",
    "#contours, hierarchy = cv2.findContours(mask.copy(), cv2.RETR_EXTERNAL, cv2.CHAIN_APPROX_SIMPLE)\n",
    "#img = cv2.drawContours(segmented_img, contours, -1, (0, 0, 255), 2)\n",
    " \n",
    "#cv2.drawContours(img,contornos,-1,(255,0,0), 2)\n",
    "\n",
    "for coordinate in df.iterrows():\n",
    "    cv2.rectangle(img, (int(coordinate[1][0].split(\" \")[0]), int(coordinate[1][0].split(\" \")[1])), (int(coordinate[1][0].split(\" \")[2]), int(coordinate[1][0].split(\" \")[3])), (0, 255, 0), 3, cv2.LINE_AA)\n",
    "    \n",
    " \n",
    "cv2.imshow(\"contornos\", img)\n",
    "\n",
    "cv2.waitKey(0)\n",
    "\n",
    "cv2.waitKey()\n",
    " \n",
    "#plt.imshow(img)\n",
    "#plt.show()"
   ]
  },
  {
   "cell_type": "markdown",
   "metadata": {},
   "source": []
  }
 ],
 "metadata": {
  "kernelspec": {
   "display_name": "Python 3.10.4 64-bit",
   "language": "python",
   "name": "python3"
  },
  "language_info": {
   "codemirror_mode": {
    "name": "ipython",
    "version": 3
   },
   "file_extension": ".py",
   "mimetype": "text/x-python",
   "name": "python",
   "nbconvert_exporter": "python",
   "pygments_lexer": "ipython3",
   "version": "3.10.4"
  },
  "orig_nbformat": 4,
  "vscode": {
   "interpreter": {
    "hash": "aee8b7b246df8f9039afb4144a1f6fd8d2ca17a180786b69acc140d282b71a49"
   }
  }
 },
 "nbformat": 4,
 "nbformat_minor": 2
}
