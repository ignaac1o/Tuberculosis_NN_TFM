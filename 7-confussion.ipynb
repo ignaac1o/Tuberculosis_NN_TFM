{
 "cells": [
  {
   "cell_type": "code",
   "execution_count": 17,
   "metadata": {},
   "outputs": [],
   "source": [
    "import numpy as np\n",
    "import pandas as pd"
   ]
  },
  {
   "cell_type": "code",
   "execution_count": 6,
   "metadata": {},
   "outputs": [],
   "source": [
    "m= np.array([[7343,97],[358,326]])\n",
    "m_level= np.array([[7335,105],[308,376]])\n",
    "\n",
    "m_0= np.array([[7373,67],[54,250]])\n",
    "m_0_level= np.array([[7404,36],[126,178]])\n",
    "\n",
    "m_eq= np.array([[7232,208],[25,477]])\n",
    "m_eq_level= np.array([[7285,155],[65,437]])\n",
    "\n",
    "m_eqfull= np.array([[7358,82],[32,311]])\n",
    "m_eqfull_level= np.array([[7410,30],[103,240]])"
   ]
  },
  {
   "cell_type": "code",
   "execution_count": 15,
   "metadata": {},
   "outputs": [],
   "source": [
    "def accuracy(m):\n",
    "    return (m[0,0]+m[1,1])/(m[0,0]+m[0,1]+m[1,0]+m[1,1])\n",
    "\n",
    "def preccision(m):\n",
    "    return(m[1,1]/(m[0,1]+m[1,1]))\n",
    "\n",
    "def recall(m):\n",
    "    return(m[1,1]/(m[1,1]+m[1,0]))"
   ]
  },
  {
   "cell_type": "code",
   "execution_count": 16,
   "metadata": {},
   "outputs": [
    {
     "data": {
      "text/plain": [
       "0.8705179282868526"
      ]
     },
     "execution_count": 16,
     "metadata": {},
     "output_type": "execute_result"
    }
   ],
   "source": [
    "preccision(m_eqfull_level)\n",
    "recall(m_eq_level)"
   ]
  },
  {
   "cell_type": "code",
   "execution_count": 34,
   "metadata": {},
   "outputs": [
    {
     "data": {
      "text/html": [
       "<div>\n",
       "<style scoped>\n",
       "    .dataframe tbody tr th:only-of-type {\n",
       "        vertical-align: middle;\n",
       "    }\n",
       "\n",
       "    .dataframe tbody tr th {\n",
       "        vertical-align: top;\n",
       "    }\n",
       "\n",
       "    .dataframe thead th {\n",
       "        text-align: right;\n",
       "    }\n",
       "</style>\n",
       "<table border=\"1\" class=\"dataframe\">\n",
       "  <thead>\n",
       "    <tr style=\"text-align: right;\">\n",
       "      <th></th>\n",
       "      <th>m</th>\n",
       "      <th>m_level</th>\n",
       "      <th>m_0</th>\n",
       "      <th>m_0_level</th>\n",
       "      <th>m_eq</th>\n",
       "      <th>m_eq_level</th>\n",
       "      <th>m_eqfull</th>\n",
       "      <th>m_eqfull_level</th>\n",
       "    </tr>\n",
       "  </thead>\n",
       "  <tbody>\n",
       "    <tr>\n",
       "      <th>accuracy</th>\n",
       "      <td>0.943993</td>\n",
       "      <td>0.949163</td>\n",
       "      <td>0.984375</td>\n",
       "      <td>0.979081</td>\n",
       "      <td>0.970662</td>\n",
       "      <td>0.972299</td>\n",
       "      <td>0.985353</td>\n",
       "      <td>0.982911</td>\n",
       "    </tr>\n",
       "    <tr>\n",
       "      <th>precission</th>\n",
       "      <td>0.770686</td>\n",
       "      <td>0.781705</td>\n",
       "      <td>0.788644</td>\n",
       "      <td>0.831776</td>\n",
       "      <td>0.696350</td>\n",
       "      <td>0.738176</td>\n",
       "      <td>0.791349</td>\n",
       "      <td>0.888889</td>\n",
       "    </tr>\n",
       "    <tr>\n",
       "      <th>recall</th>\n",
       "      <td>0.476608</td>\n",
       "      <td>0.549708</td>\n",
       "      <td>0.822368</td>\n",
       "      <td>0.585526</td>\n",
       "      <td>0.950199</td>\n",
       "      <td>0.870518</td>\n",
       "      <td>0.906706</td>\n",
       "      <td>0.699708</td>\n",
       "    </tr>\n",
       "  </tbody>\n",
       "</table>\n",
       "</div>"
      ],
      "text/plain": [
       "                   m   m_level       m_0  m_0_level      m_eq  m_eq_level  \\\n",
       "accuracy    0.943993  0.949163  0.984375   0.979081  0.970662    0.972299   \n",
       "precission  0.770686  0.781705  0.788644   0.831776  0.696350    0.738176   \n",
       "recall      0.476608  0.549708  0.822368   0.585526  0.950199    0.870518   \n",
       "\n",
       "            m_eqfull  m_eqfull_level  \n",
       "accuracy    0.985353        0.982911  \n",
       "precission  0.791349        0.888889  \n",
       "recall      0.906706        0.699708  "
      ]
     },
     "execution_count": 34,
     "metadata": {},
     "output_type": "execute_result"
    }
   ],
   "source": [
    "v_acc=[accuracy(m),accuracy(m_level),accuracy(m_0),accuracy(m_0_level),accuracy(m_eq),accuracy(m_eq_level),accuracy(m_eqfull),accuracy(m_eqfull_level)]\n",
    "v_preccision=np.array([preccision(m),preccision(m_level),preccision(m_0),preccision(m_0_level),preccision(m_eq),preccision(m_eq_level),preccision(m_eqfull),preccision(m_eqfull_level)])\n",
    "v_recall=np.array([recall(m),recall(m_level),recall(m_0),recall(m_0_level),recall(m_eq),recall(m_eq_level),recall(m_eqfull),recall(m_eqfull_level)])\n",
    "\n",
    "data={\"accuracy\":v_acc,\"precission\":v_preccision,\"recall\":v_recall}\n",
    "#data={\"accuracy\":v_acc}\n",
    "data=pd.DataFrame(data).T\n",
    "data.rename(columns={0:\"m\"})\n",
    "data.columns=[\"m\",\"m_level\",\"m_0\",\"m_0_level\",\"m_eq\",\"m_eq_level\",\"m_eqfull\",\"m_eqfull_level\"]\n",
    "data\n"
   ]
  }
 ],
 "metadata": {
  "interpreter": {
   "hash": "aee8b7b246df8f9039afb4144a1f6fd8d2ca17a180786b69acc140d282b71a49"
  },
  "kernelspec": {
   "display_name": "Python 3.10.4 64-bit",
   "language": "python",
   "name": "python3"
  },
  "language_info": {
   "codemirror_mode": {
    "name": "ipython",
    "version": 3
   },
   "file_extension": ".py",
   "mimetype": "text/x-python",
   "name": "python",
   "nbconvert_exporter": "python",
   "pygments_lexer": "ipython3",
   "version": "3.10.4"
  },
  "orig_nbformat": 4
 },
 "nbformat": 4,
 "nbformat_minor": 2
}
